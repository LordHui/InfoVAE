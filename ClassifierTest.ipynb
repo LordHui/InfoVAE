{
 "cells": [
  {
   "cell_type": "code",
   "execution_count": 1,
   "metadata": {
    "collapsed": true
   },
   "outputs": [],
   "source": [
    "from mnist_classifier import *"
   ]
  },
  {
   "cell_type": "code",
   "execution_count": 2,
   "metadata": {},
   "outputs": [
    {
     "name": "stdout",
     "output_type": "stream",
     "text": [
      "Extracting data/train-images-idx3-ubyte.gz\n",
      "Extracting data/train-labels-idx1-ubyte.gz\n",
      "Extracting data/t10k-images-idx3-ubyte.gz\n",
      "Extracting data/t10k-labels-idx1-ubyte.gz\n",
      "INFO:tensorflow:Restoring parameters from data/classifier.ckpt\n",
      "Classification model restored, test acc is 0.9924\n"
     ]
    }
   ],
   "source": [
    "os.environ['CUDA_VISIBLE_DEVICES'] = '3'\n",
    "classifier = Classifier()"
   ]
  },
  {
   "cell_type": "code",
   "execution_count": 5,
   "metadata": {},
   "outputs": [
    {
     "name": "stdout",
     "output_type": "stream",
     "text": [
      "(0.066733768454202202, 0.27359999999999995, 0.10850806421644429)\n",
      "[ 0.04281093  0.06294488  0.11753245  0.13686016  0.1115668   0.10023151\n",
      "  0.07118266  0.09002049  0.1638093   0.10303761]\n",
      "2.2434 0.407051\n",
      "1.83635\n",
      "(0.0035539589450963582, 0.063999999999999987, 0.027180875629751147)\n",
      "[ 0.10017932  0.12011556  0.10325081  0.10587836  0.09336896  0.08910233\n",
      "  0.08983395  0.1017938   0.10063317  0.09584299]\n",
      "2.29898 0.0109065\n",
      "2.28807\n"
     ]
    }
   ],
   "source": [
    "data_batches = []\n",
    "for i in range(50):\n",
    "    data_batches.append(np.random.normal(size=[100, 28, 28, 1]))\n",
    "print(classifier.class_dist_score(data_batches))\n",
    "print(classifier.inception_score(data_batches))\n",
    "\n",
    "data_batches = []\n",
    "for i in range(50):\n",
    "    data_batches.append(np.reshape(classifier.mnist.test.next_batch(100)[0], [100, 28, 28, 1]))\n",
    "print(classifier.class_dist_score(data_batches))\n",
    "print(classifier.inception_score(data_batches))"
   ]
  },
  {
   "cell_type": "code",
   "execution_count": null,
   "metadata": {
    "collapsed": true
   },
   "outputs": [],
   "source": []
  }
 ],
 "metadata": {
  "kernelspec": {
   "display_name": "Python 3",
   "language": "python",
   "name": "python3"
  },
  "language_info": {
   "codemirror_mode": {
    "name": "ipython",
    "version": 3
   },
   "file_extension": ".py",
   "mimetype": "text/x-python",
   "name": "python",
   "nbconvert_exporter": "python",
   "pygments_lexer": "ipython3",
   "version": "3.5.2"
  }
 },
 "nbformat": 4,
 "nbformat_minor": 2
}
